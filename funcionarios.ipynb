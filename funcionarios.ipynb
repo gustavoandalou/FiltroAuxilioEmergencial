{
 "cells": [
  {
   "cell_type": "code",
   "execution_count": 2,
   "metadata": {},
   "outputs": [],
   "source": [
    "import pandas as pd"
   ]
  },
  {
   "cell_type": "markdown",
   "metadata": {},
   "source": [
    "Importei a biblioteca pandas, já que o arquivo é bem pequeno."
   ]
  },
  {
   "cell_type": "code",
   "execution_count": 3,
   "metadata": {},
   "outputs": [],
   "source": [
    "df = pd.read_excel('remuneracao_20200708_143953.xls')"
   ]
  },
  {
   "cell_type": "markdown",
   "metadata": {},
   "source": [
    "Como é um arquivo XLS, utilizei este comando para ler arquivo Excel."
   ]
  },
  {
   "cell_type": "code",
   "execution_count": 4,
   "metadata": {
    "scrolled": true
   },
   "outputs": [
    {
     "data": {
      "text/html": [
       "<div>\n",
       "<style scoped>\n",
       "    .dataframe tbody tr th:only-of-type {\n",
       "        vertical-align: middle;\n",
       "    }\n",
       "\n",
       "    .dataframe tbody tr th {\n",
       "        vertical-align: top;\n",
       "    }\n",
       "\n",
       "    .dataframe thead th {\n",
       "        text-align: right;\n",
       "    }\n",
       "</style>\n",
       "<table border=\"1\" class=\"dataframe\">\n",
       "  <thead>\n",
       "    <tr style=\"text-align: right;\">\n",
       "      <th></th>\n",
       "      <th>Unnamed: 0</th>\n",
       "      <th>Unnamed: 1</th>\n",
       "      <th>Unnamed: 2</th>\n",
       "      <th>Unnamed: 3</th>\n",
       "      <th>Unnamed: 4</th>\n",
       "      <th>Unnamed: 5</th>\n",
       "      <th>Unnamed: 6</th>\n",
       "      <th>Unnamed: 7</th>\n",
       "      <th>Unnamed: 8</th>\n",
       "      <th>Unnamed: 9</th>\n",
       "      <th>Unnamed: 10</th>\n",
       "      <th>Unnamed: 11</th>\n",
       "      <th>Unnamed: 12</th>\n",
       "    </tr>\n",
       "  </thead>\n",
       "  <tbody>\n",
       "    <tr>\n",
       "      <th>0</th>\n",
       "      <td>NaN</td>\n",
       "      <td>Portal da Transparência - Remuneração</td>\n",
       "      <td>NaN</td>\n",
       "      <td>NaN</td>\n",
       "      <td>NaN</td>\n",
       "      <td>NaN</td>\n",
       "      <td>NaN</td>\n",
       "      <td>NaN</td>\n",
       "      <td>NaN</td>\n",
       "      <td>NaN</td>\n",
       "      <td>NaN</td>\n",
       "      <td>NaN</td>\n",
       "      <td>NaN</td>\n",
       "    </tr>\n",
       "    <tr>\n",
       "      <th>1</th>\n",
       "      <td>NaN</td>\n",
       "      <td>Empresa:</td>\n",
       "      <td>Prefeitura Municipal de Ribeirão Preto</td>\n",
       "      <td>NaN</td>\n",
       "      <td>NaN</td>\n",
       "      <td>NaN</td>\n",
       "      <td>NaN</td>\n",
       "      <td>NaN</td>\n",
       "      <td>NaN</td>\n",
       "      <td>NaN</td>\n",
       "      <td>NaN</td>\n",
       "      <td>NaN</td>\n",
       "      <td>NaN</td>\n",
       "    </tr>\n",
       "    <tr>\n",
       "      <th>2</th>\n",
       "      <td>NaN</td>\n",
       "      <td>Secretaria:</td>\n",
       "      <td>TODAS</td>\n",
       "      <td>NaN</td>\n",
       "      <td>NaN</td>\n",
       "      <td>NaN</td>\n",
       "      <td>Local:</td>\n",
       "      <td>TODOS</td>\n",
       "      <td>NaN</td>\n",
       "      <td>NaN</td>\n",
       "      <td>NaN</td>\n",
       "      <td>NaN</td>\n",
       "      <td>NaN</td>\n",
       "    </tr>\n",
       "    <tr>\n",
       "      <th>3</th>\n",
       "      <td>NaN</td>\n",
       "      <td>Cargo:</td>\n",
       "      <td>TODOS</td>\n",
       "      <td>NaN</td>\n",
       "      <td>NaN</td>\n",
       "      <td>NaN</td>\n",
       "      <td>Vínculo:</td>\n",
       "      <td>TODOS</td>\n",
       "      <td>NaN</td>\n",
       "      <td>NaN</td>\n",
       "      <td>NaN</td>\n",
       "      <td>NaN</td>\n",
       "      <td>NaN</td>\n",
       "    </tr>\n",
       "    <tr>\n",
       "      <th>4</th>\n",
       "      <td>NaN</td>\n",
       "      <td>Nome</td>\n",
       "      <td>Tipo Vínculo</td>\n",
       "      <td>Função</td>\n",
       "      <td>Função Com.</td>\n",
       "      <td>Secretaria</td>\n",
       "      <td>Local</td>\n",
       "      <td>Acúmulo</td>\n",
       "      <td>Cessão Receb.</td>\n",
       "      <td>Ref.</td>\n",
       "      <td>Vencimento</td>\n",
       "      <td>Valor Desc.</td>\n",
       "      <td>Valor Líquido</td>\n",
       "    </tr>\n",
       "  </tbody>\n",
       "</table>\n",
       "</div>"
      ],
      "text/plain": [
       "   Unnamed: 0                             Unnamed: 1  \\\n",
       "0         NaN  Portal da Transparência - Remuneração   \n",
       "1         NaN                               Empresa:   \n",
       "2         NaN                            Secretaria:   \n",
       "3         NaN                                 Cargo:   \n",
       "4         NaN                                   Nome   \n",
       "\n",
       "                               Unnamed: 2 Unnamed: 3   Unnamed: 4  Unnamed: 5  \\\n",
       "0                                     NaN        NaN          NaN         NaN   \n",
       "1  Prefeitura Municipal de Ribeirão Preto        NaN          NaN         NaN   \n",
       "2                                   TODAS        NaN          NaN         NaN   \n",
       "3                                   TODOS        NaN          NaN         NaN   \n",
       "4                            Tipo Vínculo     Função  Função Com.  Secretaria   \n",
       "\n",
       "  Unnamed: 6 Unnamed: 7     Unnamed: 8 Unnamed: 9  Unnamed: 10  Unnamed: 11  \\\n",
       "0        NaN        NaN            NaN        NaN          NaN          NaN   \n",
       "1        NaN        NaN            NaN        NaN          NaN          NaN   \n",
       "2     Local:      TODOS            NaN        NaN          NaN          NaN   \n",
       "3   Vínculo:      TODOS            NaN        NaN          NaN          NaN   \n",
       "4      Local    Acúmulo  Cessão Receb.       Ref.  Vencimento   Valor Desc.   \n",
       "\n",
       "     Unnamed: 12  \n",
       "0            NaN  \n",
       "1            NaN  \n",
       "2            NaN  \n",
       "3            NaN  \n",
       "4  Valor Líquido  "
      ]
     },
     "execution_count": 4,
     "metadata": {},
     "output_type": "execute_result"
    }
   ],
   "source": [
    "df.head(5)"
   ]
  },
  {
   "cell_type": "markdown",
   "metadata": {},
   "source": [
    "Pedi para me mostrar as cinco primeiras entradas do dataframe para eu ver como estava organizado."
   ]
  },
  {
   "cell_type": "code",
   "execution_count": null,
   "metadata": {},
   "outputs": [],
   "source": [
    "df = df.drop([0, 1, 2, 3, 4])"
   ]
  },
  {
   "cell_type": "markdown",
   "metadata": {},
   "source": [
    "Excluí as cinco primeiras linhas do arquivo, pois elas não tinham valor nenhum."
   ]
  },
  {
   "cell_type": "code",
   "execution_count": 6,
   "metadata": {},
   "outputs": [
    {
     "data": {
      "text/html": [
       "<div>\n",
       "<style scoped>\n",
       "    .dataframe tbody tr th:only-of-type {\n",
       "        vertical-align: middle;\n",
       "    }\n",
       "\n",
       "    .dataframe tbody tr th {\n",
       "        vertical-align: top;\n",
       "    }\n",
       "\n",
       "    .dataframe thead th {\n",
       "        text-align: right;\n",
       "    }\n",
       "</style>\n",
       "<table border=\"1\" class=\"dataframe\">\n",
       "  <thead>\n",
       "    <tr style=\"text-align: right;\">\n",
       "      <th></th>\n",
       "      <th>Unnamed: 0</th>\n",
       "      <th>Unnamed: 1</th>\n",
       "      <th>Unnamed: 2</th>\n",
       "      <th>Unnamed: 3</th>\n",
       "      <th>Unnamed: 4</th>\n",
       "      <th>Unnamed: 5</th>\n",
       "      <th>Unnamed: 6</th>\n",
       "      <th>Unnamed: 7</th>\n",
       "      <th>Unnamed: 8</th>\n",
       "      <th>Unnamed: 9</th>\n",
       "      <th>Unnamed: 10</th>\n",
       "      <th>Unnamed: 11</th>\n",
       "      <th>Unnamed: 12</th>\n",
       "    </tr>\n",
       "  </thead>\n",
       "  <tbody>\n",
       "    <tr>\n",
       "      <th>2901</th>\n",
       "      <td>NaN</td>\n",
       "      <td>FERNANDA YEZA FERREIRA</td>\n",
       "      <td>ESTATUTARIO(A)</td>\n",
       "      <td>ENFERMEIRO</td>\n",
       "      <td></td>\n",
       "      <td>SECRETARIA MUNICIPAL DA SAUDE</td>\n",
       "      <td>CSE IPIRANGA</td>\n",
       "      <td>...</td>\n",
       "      <td>...</td>\n",
       "      <td>6/2020</td>\n",
       "      <td>4511.13</td>\n",
       "      <td>1041.2</td>\n",
       "      <td>3469.93</td>\n",
       "    </tr>\n",
       "    <tr>\n",
       "      <th>2803</th>\n",
       "      <td>NaN</td>\n",
       "      <td>FATIMA APARECIDA DE STEFANO COSENZA</td>\n",
       "      <td>ESTATUTARIO(A)</td>\n",
       "      <td>COZINHEIRO</td>\n",
       "      <td></td>\n",
       "      <td>SECRETARIA MUNICIPAL DA EDUCACAO</td>\n",
       "      <td>E.M.E.I. ANITA PROCOPIO JUNQUEIRA</td>\n",
       "      <td>...</td>\n",
       "      <td>...</td>\n",
       "      <td>6/2020</td>\n",
       "      <td>3495.35</td>\n",
       "      <td>1576.69</td>\n",
       "      <td>1918.66</td>\n",
       "    </tr>\n",
       "    <tr>\n",
       "      <th>2602</th>\n",
       "      <td>NaN</td>\n",
       "      <td>ERIKA MOREIRA PASCHOAL</td>\n",
       "      <td>ESTATUTARIO(A)</td>\n",
       "      <td>TECNICO EM ENFERMAGEM</td>\n",
       "      <td></td>\n",
       "      <td>SECRETARIA MUNICIPAL DA SAUDE</td>\n",
       "      <td>PROG. ASSIST. MEDICA EMERGENCIAL</td>\n",
       "      <td>...</td>\n",
       "      <td>...</td>\n",
       "      <td>6/2020</td>\n",
       "      <td>7358.2</td>\n",
       "      <td>1643.58</td>\n",
       "      <td>5714.62</td>\n",
       "    </tr>\n",
       "    <tr>\n",
       "      <th>7357</th>\n",
       "      <td>NaN</td>\n",
       "      <td>SANDRA DE ALMEIDA NUNES</td>\n",
       "      <td>ESTATUTARIO(A)</td>\n",
       "      <td>AUXILIAR DE ENFERMAGEM</td>\n",
       "      <td></td>\n",
       "      <td>SECRETARIA MUNICIPAL DA SAUDE</td>\n",
       "      <td>CAPS III-\"DR. ANDRE SANTIAGO\"</td>\n",
       "      <td>...</td>\n",
       "      <td>...</td>\n",
       "      <td>6/2020</td>\n",
       "      <td>3265.05</td>\n",
       "      <td>1620.95</td>\n",
       "      <td>1644.1</td>\n",
       "    </tr>\n",
       "    <tr>\n",
       "      <th>3884</th>\n",
       "      <td>NaN</td>\n",
       "      <td>JOSE DONIZETE BATISTELA</td>\n",
       "      <td>ESTATUTARIO(A)</td>\n",
       "      <td>AGENTE DE SEGURANCA</td>\n",
       "      <td></td>\n",
       "      <td>SECRETARIA MUNICIPAL DA EDUCACAO</td>\n",
       "      <td>E.M.E.I. DEPUTADO JOAO SPERANDIO</td>\n",
       "      <td>...</td>\n",
       "      <td>...</td>\n",
       "      <td>6/2020</td>\n",
       "      <td>3506.01</td>\n",
       "      <td>760.71</td>\n",
       "      <td>2745.3</td>\n",
       "    </tr>\n",
       "  </tbody>\n",
       "</table>\n",
       "</div>"
      ],
      "text/plain": [
       "      Unnamed: 0                                Unnamed: 1  \\\n",
       "2901         NaN  FERNANDA YEZA FERREIRA                     \n",
       "2803         NaN  FATIMA APARECIDA DE STEFANO COSENZA        \n",
       "2602         NaN  ERIKA MOREIRA PASCHOAL                     \n",
       "7357         NaN  SANDRA DE ALMEIDA NUNES                    \n",
       "3884         NaN  JOSE DONIZETE BATISTELA                    \n",
       "\n",
       "                               Unnamed: 2  \\\n",
       "2901  ESTATUTARIO(A)                        \n",
       "2803  ESTATUTARIO(A)                        \n",
       "2602  ESTATUTARIO(A)                        \n",
       "7357  ESTATUTARIO(A)                        \n",
       "3884  ESTATUTARIO(A)                        \n",
       "\n",
       "                                    Unnamed: 3  \\\n",
       "2901  ENFERMEIRO                                 \n",
       "2803  COZINHEIRO                                 \n",
       "2602  TECNICO EM ENFERMAGEM                      \n",
       "7357  AUXILIAR DE ENFERMAGEM                     \n",
       "3884  AGENTE DE SEGURANCA                        \n",
       "\n",
       "                                    Unnamed: 4  \\\n",
       "2901                                             \n",
       "2803                                             \n",
       "2602                                             \n",
       "7357                                             \n",
       "3884                                             \n",
       "\n",
       "                               Unnamed: 5  \\\n",
       "2901  SECRETARIA MUNICIPAL DA SAUDE         \n",
       "2803  SECRETARIA MUNICIPAL DA EDUCACAO      \n",
       "2602  SECRETARIA MUNICIPAL DA SAUDE         \n",
       "7357  SECRETARIA MUNICIPAL DA SAUDE         \n",
       "3884  SECRETARIA MUNICIPAL DA EDUCACAO      \n",
       "\n",
       "                               Unnamed: 6  \\\n",
       "2901  CSE IPIRANGA                          \n",
       "2803  E.M.E.I. ANITA PROCOPIO JUNQUEIRA     \n",
       "2602  PROG. ASSIST. MEDICA EMERGENCIAL      \n",
       "7357  CAPS III-\"DR. ANDRE SANTIAGO\"         \n",
       "3884  E.M.E.I. DEPUTADO JOAO SPERANDIO      \n",
       "\n",
       "                                             Unnamed: 7  \\\n",
       "2901                                                ...   \n",
       "2803                                                ...   \n",
       "2602                                                ...   \n",
       "7357                                                ...   \n",
       "3884                                                ...   \n",
       "\n",
       "                                             Unnamed: 8 Unnamed: 9  \\\n",
       "2901                                                ...     6/2020   \n",
       "2803                                                ...     6/2020   \n",
       "2602                                                ...     6/2020   \n",
       "7357                                                ...     6/2020   \n",
       "3884                                                ...     6/2020   \n",
       "\n",
       "     Unnamed: 10 Unnamed: 11 Unnamed: 12  \n",
       "2901     4511.13      1041.2     3469.93  \n",
       "2803     3495.35     1576.69     1918.66  \n",
       "2602      7358.2     1643.58     5714.62  \n",
       "7357     3265.05     1620.95      1644.1  \n",
       "3884     3506.01      760.71      2745.3  "
      ]
     },
     "execution_count": 6,
     "metadata": {},
     "output_type": "execute_result"
    }
   ],
   "source": [
    "df.sample(5)"
   ]
  },
  {
   "cell_type": "code",
   "execution_count": null,
   "metadata": {},
   "outputs": [],
   "source": [
    "Aqui eu pedi para me mostrar o arquivo de maneira aleatória a fim de curiosidade."
   ]
  },
  {
   "cell_type": "code",
   "execution_count": 8,
   "metadata": {},
   "outputs": [],
   "source": [
    "dfFunc = df[['Unnamed: 1', 'Unnamed: 10']]"
   ]
  },
  {
   "cell_type": "markdown",
   "metadata": {},
   "source": [
    "Criei um novo dataframe baseado no antigo utilizando apenas as colunas do meu interesse."
   ]
  },
  {
   "cell_type": "code",
   "execution_count": 9,
   "metadata": {},
   "outputs": [
    {
     "data": {
      "text/html": [
       "<div>\n",
       "<style scoped>\n",
       "    .dataframe tbody tr th:only-of-type {\n",
       "        vertical-align: middle;\n",
       "    }\n",
       "\n",
       "    .dataframe tbody tr th {\n",
       "        vertical-align: top;\n",
       "    }\n",
       "\n",
       "    .dataframe thead th {\n",
       "        text-align: right;\n",
       "    }\n",
       "</style>\n",
       "<table border=\"1\" class=\"dataframe\">\n",
       "  <thead>\n",
       "    <tr style=\"text-align: right;\">\n",
       "      <th></th>\n",
       "      <th>Unnamed: 1</th>\n",
       "      <th>Unnamed: 10</th>\n",
       "    </tr>\n",
       "  </thead>\n",
       "  <tbody>\n",
       "    <tr>\n",
       "      <th>5</th>\n",
       "      <td>ACACIO JOSE DAMASCENO</td>\n",
       "      <td>3330.28</td>\n",
       "    </tr>\n",
       "    <tr>\n",
       "      <th>6</th>\n",
       "      <td>ADA CRISTIANI FERREIRA</td>\n",
       "      <td>5931.76</td>\n",
       "    </tr>\n",
       "    <tr>\n",
       "      <th>7</th>\n",
       "      <td>ADAILTON GERALDO SELEGATO VICENTE</td>\n",
       "      <td>4022.28</td>\n",
       "    </tr>\n",
       "    <tr>\n",
       "      <th>8</th>\n",
       "      <td>ADALBERTO GONZAGA DA SILVA</td>\n",
       "      <td>2535.07</td>\n",
       "    </tr>\n",
       "    <tr>\n",
       "      <th>9</th>\n",
       "      <td>ADALGISA APARECIDA ZANAROTTI PEREIRA</td>\n",
       "      <td>19871</td>\n",
       "    </tr>\n",
       "  </tbody>\n",
       "</table>\n",
       "</div>"
      ],
      "text/plain": [
       "                                 Unnamed: 1 Unnamed: 10\n",
       "5  ACACIO JOSE DAMASCENO                        3330.28\n",
       "6  ADA CRISTIANI FERREIRA                       5931.76\n",
       "7  ADAILTON GERALDO SELEGATO VICENTE            4022.28\n",
       "8  ADALBERTO GONZAGA DA SILVA                   2535.07\n",
       "9  ADALGISA APARECIDA ZANAROTTI PEREIRA           19871"
      ]
     },
     "execution_count": 9,
     "metadata": {},
     "output_type": "execute_result"
    }
   ],
   "source": [
    "dfFunc.head(5)"
   ]
  },
  {
   "cell_type": "markdown",
   "metadata": {},
   "source": [
    "Pedi para me mostrar as cinco primeiras entradas do dataframe para eu ver como ficou."
   ]
  },
  {
   "cell_type": "code",
   "execution_count": 10,
   "metadata": {},
   "outputs": [],
   "source": [
    "dfFunc = dfFunc.rename(columns={'Unnamed: 1':'Funcionario'})"
   ]
  },
  {
   "cell_type": "markdown",
   "metadata": {},
   "source": [
    "Renomeei a coluna Unnamed: 1 para Funcionario. Não utilizar o acento foi para facilitar. As vezes o Python não se da bem com eles."
   ]
  },
  {
   "cell_type": "code",
   "execution_count": 11,
   "metadata": {},
   "outputs": [
    {
     "data": {
      "text/html": [
       "<div>\n",
       "<style scoped>\n",
       "    .dataframe tbody tr th:only-of-type {\n",
       "        vertical-align: middle;\n",
       "    }\n",
       "\n",
       "    .dataframe tbody tr th {\n",
       "        vertical-align: top;\n",
       "    }\n",
       "\n",
       "    .dataframe thead th {\n",
       "        text-align: right;\n",
       "    }\n",
       "</style>\n",
       "<table border=\"1\" class=\"dataframe\">\n",
       "  <thead>\n",
       "    <tr style=\"text-align: right;\">\n",
       "      <th></th>\n",
       "      <th>Funcionario</th>\n",
       "      <th>Unnamed: 10</th>\n",
       "    </tr>\n",
       "  </thead>\n",
       "  <tbody>\n",
       "    <tr>\n",
       "      <th>5</th>\n",
       "      <td>ACACIO JOSE DAMASCENO</td>\n",
       "      <td>3330.28</td>\n",
       "    </tr>\n",
       "    <tr>\n",
       "      <th>6</th>\n",
       "      <td>ADA CRISTIANI FERREIRA</td>\n",
       "      <td>5931.76</td>\n",
       "    </tr>\n",
       "    <tr>\n",
       "      <th>7</th>\n",
       "      <td>ADAILTON GERALDO SELEGATO VICENTE</td>\n",
       "      <td>4022.28</td>\n",
       "    </tr>\n",
       "    <tr>\n",
       "      <th>8</th>\n",
       "      <td>ADALBERTO GONZAGA DA SILVA</td>\n",
       "      <td>2535.07</td>\n",
       "    </tr>\n",
       "    <tr>\n",
       "      <th>9</th>\n",
       "      <td>ADALGISA APARECIDA ZANAROTTI PEREIRA</td>\n",
       "      <td>19871</td>\n",
       "    </tr>\n",
       "  </tbody>\n",
       "</table>\n",
       "</div>"
      ],
      "text/plain": [
       "                                Funcionario Unnamed: 10\n",
       "5  ACACIO JOSE DAMASCENO                        3330.28\n",
       "6  ADA CRISTIANI FERREIRA                       5931.76\n",
       "7  ADAILTON GERALDO SELEGATO VICENTE            4022.28\n",
       "8  ADALBERTO GONZAGA DA SILVA                   2535.07\n",
       "9  ADALGISA APARECIDA ZANAROTTI PEREIRA           19871"
      ]
     },
     "execution_count": 11,
     "metadata": {},
     "output_type": "execute_result"
    }
   ],
   "source": [
    "dfFunc.head(5)"
   ]
  },
  {
   "cell_type": "markdown",
   "metadata": {},
   "source": [
    "Vi como ficou agora."
   ]
  },
  {
   "cell_type": "code",
   "execution_count": 12,
   "metadata": {},
   "outputs": [],
   "source": [
    "dfFunc = dfFunc.rename(columns={'Unnamed: 10':'Salario'})"
   ]
  },
  {
   "cell_type": "markdown",
   "metadata": {},
   "source": [
    "Opa, esqueci de renomear a outra coluna."
   ]
  },
  {
   "cell_type": "code",
   "execution_count": 13,
   "metadata": {
    "scrolled": true
   },
   "outputs": [
    {
     "data": {
      "text/html": [
       "<div>\n",
       "<style scoped>\n",
       "    .dataframe tbody tr th:only-of-type {\n",
       "        vertical-align: middle;\n",
       "    }\n",
       "\n",
       "    .dataframe tbody tr th {\n",
       "        vertical-align: top;\n",
       "    }\n",
       "\n",
       "    .dataframe thead th {\n",
       "        text-align: right;\n",
       "    }\n",
       "</style>\n",
       "<table border=\"1\" class=\"dataframe\">\n",
       "  <thead>\n",
       "    <tr style=\"text-align: right;\">\n",
       "      <th></th>\n",
       "      <th>Funcionario</th>\n",
       "      <th>Salario</th>\n",
       "    </tr>\n",
       "  </thead>\n",
       "  <tbody>\n",
       "    <tr>\n",
       "      <th>5</th>\n",
       "      <td>ACACIO JOSE DAMASCENO</td>\n",
       "      <td>3330.28</td>\n",
       "    </tr>\n",
       "    <tr>\n",
       "      <th>6</th>\n",
       "      <td>ADA CRISTIANI FERREIRA</td>\n",
       "      <td>5931.76</td>\n",
       "    </tr>\n",
       "    <tr>\n",
       "      <th>7</th>\n",
       "      <td>ADAILTON GERALDO SELEGATO VICENTE</td>\n",
       "      <td>4022.28</td>\n",
       "    </tr>\n",
       "    <tr>\n",
       "      <th>8</th>\n",
       "      <td>ADALBERTO GONZAGA DA SILVA</td>\n",
       "      <td>2535.07</td>\n",
       "    </tr>\n",
       "    <tr>\n",
       "      <th>9</th>\n",
       "      <td>ADALGISA APARECIDA ZANAROTTI PEREIRA</td>\n",
       "      <td>19871</td>\n",
       "    </tr>\n",
       "  </tbody>\n",
       "</table>\n",
       "</div>"
      ],
      "text/plain": [
       "                                Funcionario  Salario\n",
       "5  ACACIO JOSE DAMASCENO                     3330.28\n",
       "6  ADA CRISTIANI FERREIRA                    5931.76\n",
       "7  ADAILTON GERALDO SELEGATO VICENTE         4022.28\n",
       "8  ADALBERTO GONZAGA DA SILVA                2535.07\n",
       "9  ADALGISA APARECIDA ZANAROTTI PEREIRA        19871"
      ]
     },
     "execution_count": 13,
     "metadata": {},
     "output_type": "execute_result"
    }
   ],
   "source": [
    "dfFunc.head(5)"
   ]
  },
  {
   "cell_type": "markdown",
   "metadata": {},
   "source": [
    "Agora, sim. Do jeito que eu quero."
   ]
  },
  {
   "cell_type": "code",
   "execution_count": null,
   "metadata": {},
   "outputs": [],
   "source": [
    "dfFunc.to_csv('funcionariosribeirao.csv', encoding ='utf8')"
   ]
  },
  {
   "cell_type": "markdown",
   "metadata": {},
   "source": [
    "Salvo."
   ]
  }
 ],
 "metadata": {
  "kernelspec": {
   "display_name": "Python 3",
   "language": "python",
   "name": "python3"
  },
  "language_info": {
   "codemirror_mode": {
    "name": "ipython",
    "version": 3
   },
   "file_extension": ".py",
   "mimetype": "text/x-python",
   "name": "python",
   "nbconvert_exporter": "python",
   "pygments_lexer": "ipython3",
   "version": "3.8.3"
  }
 },
 "nbformat": 4,
 "nbformat_minor": 4
}
