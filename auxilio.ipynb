{
 "cells": [
  {
   "cell_type": "code",
   "execution_count": 1,
   "metadata": {},
   "outputs": [],
   "source": [
    "import dask.dataframe as dd"
   ]
  },
  {
   "cell_type": "markdown",
   "metadata": {},
   "source": [
    "Como o arquivo é muito grande, o abri utilizando o dask.dataframe, pois o pandas carrega todo o arquivo na memória RAM do computador. Neste caso, eu precisaria de no mínimo 8 gigas de memória e ainda assim não me sobraria mais nada para fazer os restantes das tarefas. Os comandos são basicamente o mesmos."
   ]
  },
  {
   "cell_type": "code",
   "execution_count": 2,
   "metadata": {},
   "outputs": [],
   "source": [
    "df = dd.read_csv('202004_AuxilioEmergencial.csv', sep=';', encoding='latin-1')"
   ]
  },
  {
   "cell_type": "markdown",
   "metadata": {},
   "source": [
    "Criei um dataframe com os dados do Auxílio Emergencial usando ponto e vírgula como separador e a codificação latin-1. Descobri isso importando primeiramente com as configurações padrões e percebi que não estava bem formatado."
   ]
  },
  {
   "cell_type": "code",
   "execution_count": 3,
   "metadata": {},
   "outputs": [
    {
     "data": {
      "text/html": [
       "<div>\n",
       "<style scoped>\n",
       "    .dataframe tbody tr th:only-of-type {\n",
       "        vertical-align: middle;\n",
       "    }\n",
       "\n",
       "    .dataframe tbody tr th {\n",
       "        vertical-align: top;\n",
       "    }\n",
       "\n",
       "    .dataframe thead th {\n",
       "        text-align: right;\n",
       "    }\n",
       "</style>\n",
       "<table border=\"1\" class=\"dataframe\">\n",
       "  <thead>\n",
       "    <tr style=\"text-align: right;\">\n",
       "      <th></th>\n",
       "      <th>MÊS DISPONIBILIZAÇÃO</th>\n",
       "      <th>UF</th>\n",
       "      <th>CÓDIGO MUNICÍPIO IBGE</th>\n",
       "      <th>NOME MUNICÍPIO</th>\n",
       "      <th>NIS BENEFICIÁRIO</th>\n",
       "      <th>CPF BENEFICIÁRIO</th>\n",
       "      <th>NOME BENEFICIÁRIO</th>\n",
       "      <th>NIS RESPONSÁVEL</th>\n",
       "      <th>CPF RESPONSÁVEL</th>\n",
       "      <th>NOME RESPONSÁVEL</th>\n",
       "      <th>ENQUADRAMENTO</th>\n",
       "      <th>PARCELA</th>\n",
       "      <th>OBSERVAÇÃO</th>\n",
       "      <th>VALOR BENEFÍCIO</th>\n",
       "    </tr>\n",
       "  </thead>\n",
       "  <tbody>\n",
       "    <tr>\n",
       "      <th>0</th>\n",
       "      <td>202004</td>\n",
       "      <td>NaN</td>\n",
       "      <td>NaN</td>\n",
       "      <td>NaN</td>\n",
       "      <td>0</td>\n",
       "      <td>***.362.572-**</td>\n",
       "      <td>ADENILSO MACENA DOS SANTOS</td>\n",
       "      <td>-2</td>\n",
       "      <td>NaN</td>\n",
       "      <td>Não se aplica</td>\n",
       "      <td>CADUN NAO BOLSA</td>\n",
       "      <td>1ª</td>\n",
       "      <td>Não há</td>\n",
       "      <td>600,00</td>\n",
       "    </tr>\n",
       "    <tr>\n",
       "      <th>1</th>\n",
       "      <td>202004</td>\n",
       "      <td>NaN</td>\n",
       "      <td>NaN</td>\n",
       "      <td>NaN</td>\n",
       "      <td>0</td>\n",
       "      <td>***.845.782-**</td>\n",
       "      <td>ADINILSON SANTANA ALVES</td>\n",
       "      <td>-2</td>\n",
       "      <td>NaN</td>\n",
       "      <td>Não se aplica</td>\n",
       "      <td>CADUN NAO BOLSA</td>\n",
       "      <td>1ª</td>\n",
       "      <td>Não há</td>\n",
       "      <td>600,00</td>\n",
       "    </tr>\n",
       "    <tr>\n",
       "      <th>2</th>\n",
       "      <td>202004</td>\n",
       "      <td>NaN</td>\n",
       "      <td>NaN</td>\n",
       "      <td>NaN</td>\n",
       "      <td>0</td>\n",
       "      <td>***.988.794-**</td>\n",
       "      <td>ADNA KAMILA DOS SANTOS DOMINGOS BARROS</td>\n",
       "      <td>-2</td>\n",
       "      <td>NaN</td>\n",
       "      <td>Não se aplica</td>\n",
       "      <td>CADUN NAO BOLSA</td>\n",
       "      <td>1ª</td>\n",
       "      <td>Não há</td>\n",
       "      <td>600,00</td>\n",
       "    </tr>\n",
       "    <tr>\n",
       "      <th>3</th>\n",
       "      <td>202004</td>\n",
       "      <td>NaN</td>\n",
       "      <td>NaN</td>\n",
       "      <td>NaN</td>\n",
       "      <td>0</td>\n",
       "      <td>***.018.624-**</td>\n",
       "      <td>ADONY SANTOS SILVA</td>\n",
       "      <td>-2</td>\n",
       "      <td>NaN</td>\n",
       "      <td>Não se aplica</td>\n",
       "      <td>CADUN NAO BOLSA</td>\n",
       "      <td>1ª</td>\n",
       "      <td>Não há</td>\n",
       "      <td>600,00</td>\n",
       "    </tr>\n",
       "    <tr>\n",
       "      <th>4</th>\n",
       "      <td>202004</td>\n",
       "      <td>NaN</td>\n",
       "      <td>NaN</td>\n",
       "      <td>NaN</td>\n",
       "      <td>0</td>\n",
       "      <td>***.754.740-**</td>\n",
       "      <td>ADRIANDO SGARBI</td>\n",
       "      <td>-2</td>\n",
       "      <td>NaN</td>\n",
       "      <td>Não se aplica</td>\n",
       "      <td>CADUN NAO BOLSA</td>\n",
       "      <td>1ª</td>\n",
       "      <td>Não há</td>\n",
       "      <td>600,00</td>\n",
       "    </tr>\n",
       "  </tbody>\n",
       "</table>\n",
       "</div>"
      ],
      "text/plain": [
       "   MÊS DISPONIBILIZAÇÃO   UF  CÓDIGO MUNICÍPIO IBGE NOME MUNICÍPIO  \\\n",
       "0                202004  NaN                    NaN            NaN   \n",
       "1                202004  NaN                    NaN            NaN   \n",
       "2                202004  NaN                    NaN            NaN   \n",
       "3                202004  NaN                    NaN            NaN   \n",
       "4                202004  NaN                    NaN            NaN   \n",
       "\n",
       "   NIS BENEFICIÁRIO CPF BENEFICIÁRIO                       NOME BENEFICIÁRIO  \\\n",
       "0                 0   ***.362.572-**              ADENILSO MACENA DOS SANTOS   \n",
       "1                 0   ***.845.782-**                 ADINILSON SANTANA ALVES   \n",
       "2                 0   ***.988.794-**  ADNA KAMILA DOS SANTOS DOMINGOS BARROS   \n",
       "3                 0   ***.018.624-**                      ADONY SANTOS SILVA   \n",
       "4                 0   ***.754.740-**                         ADRIANDO SGARBI   \n",
       "\n",
       "   NIS RESPONSÁVEL CPF RESPONSÁVEL NOME RESPONSÁVEL    ENQUADRAMENTO PARCELA  \\\n",
       "0               -2             NaN    Não se aplica  CADUN NAO BOLSA      1ª   \n",
       "1               -2             NaN    Não se aplica  CADUN NAO BOLSA      1ª   \n",
       "2               -2             NaN    Não se aplica  CADUN NAO BOLSA      1ª   \n",
       "3               -2             NaN    Não se aplica  CADUN NAO BOLSA      1ª   \n",
       "4               -2             NaN    Não se aplica  CADUN NAO BOLSA      1ª   \n",
       "\n",
       "  OBSERVAÇÃO VALOR BENEFÍCIO  \n",
       "0     Não há          600,00  \n",
       "1     Não há          600,00  \n",
       "2     Não há          600,00  \n",
       "3     Não há          600,00  \n",
       "4     Não há          600,00  "
      ]
     },
     "execution_count": 3,
     "metadata": {},
     "output_type": "execute_result"
    }
   ],
   "source": [
    "df.head(5)"
   ]
  },
  {
   "cell_type": "markdown",
   "metadata": {},
   "source": [
    "Pedi para me mostrar as cinco primeiras entradas do dataframe para eu ver como estava organizado."
   ]
  },
  {
   "cell_type": "code",
   "execution_count": 4,
   "metadata": {},
   "outputs": [],
   "source": [
    "df = df.dropna(subset=['UF'])"
   ]
  },
  {
   "cell_type": "markdown",
   "metadata": {},
   "source": [
    "Queria me livrar das linhas com NaN (not a number) e comecei pela coluna UF."
   ]
  },
  {
   "cell_type": "code",
   "execution_count": 5,
   "metadata": {
    "scrolled": true
   },
   "outputs": [
    {
     "data": {
      "text/html": [
       "<div>\n",
       "<style scoped>\n",
       "    .dataframe tbody tr th:only-of-type {\n",
       "        vertical-align: middle;\n",
       "    }\n",
       "\n",
       "    .dataframe tbody tr th {\n",
       "        vertical-align: top;\n",
       "    }\n",
       "\n",
       "    .dataframe thead th {\n",
       "        text-align: right;\n",
       "    }\n",
       "</style>\n",
       "<table border=\"1\" class=\"dataframe\">\n",
       "  <thead>\n",
       "    <tr style=\"text-align: right;\">\n",
       "      <th></th>\n",
       "      <th>MÊS DISPONIBILIZAÇÃO</th>\n",
       "      <th>UF</th>\n",
       "      <th>CÓDIGO MUNICÍPIO IBGE</th>\n",
       "      <th>NOME MUNICÍPIO</th>\n",
       "      <th>NIS BENEFICIÁRIO</th>\n",
       "      <th>CPF BENEFICIÁRIO</th>\n",
       "      <th>NOME BENEFICIÁRIO</th>\n",
       "      <th>NIS RESPONSÁVEL</th>\n",
       "      <th>CPF RESPONSÁVEL</th>\n",
       "      <th>NOME RESPONSÁVEL</th>\n",
       "      <th>ENQUADRAMENTO</th>\n",
       "      <th>PARCELA</th>\n",
       "      <th>OBSERVAÇÃO</th>\n",
       "      <th>VALOR BENEFÍCIO</th>\n",
       "    </tr>\n",
       "  </thead>\n",
       "  <tbody>\n",
       "    <tr>\n",
       "      <th>273</th>\n",
       "      <td>202004</td>\n",
       "      <td>AC</td>\n",
       "      <td>1200013.0</td>\n",
       "      <td>ACRELANDIA</td>\n",
       "      <td>0</td>\n",
       "      <td>***.892.435-**</td>\n",
       "      <td>ABEDI MANANGA</td>\n",
       "      <td>-2</td>\n",
       "      <td>NaN</td>\n",
       "      <td>Não se aplica</td>\n",
       "      <td>EXTRA CADUN</td>\n",
       "      <td>1ª</td>\n",
       "      <td>Não há</td>\n",
       "      <td>600,00</td>\n",
       "    </tr>\n",
       "    <tr>\n",
       "      <th>274</th>\n",
       "      <td>202004</td>\n",
       "      <td>AC</td>\n",
       "      <td>1200013.0</td>\n",
       "      <td>ACRELANDIA</td>\n",
       "      <td>23688307034</td>\n",
       "      <td>***.105.752-**</td>\n",
       "      <td>ABEL DA COSTA PAULICHEN</td>\n",
       "      <td>-2</td>\n",
       "      <td>NaN</td>\n",
       "      <td>Não se aplica</td>\n",
       "      <td>CADUN NAO BOLSA</td>\n",
       "      <td>1ª</td>\n",
       "      <td>Não há</td>\n",
       "      <td>600,00</td>\n",
       "    </tr>\n",
       "    <tr>\n",
       "      <th>275</th>\n",
       "      <td>202004</td>\n",
       "      <td>AC</td>\n",
       "      <td>1200013.0</td>\n",
       "      <td>ACRELANDIA</td>\n",
       "      <td>16162958613</td>\n",
       "      <td>***.690.492-**</td>\n",
       "      <td>ABIDIAS DE OLIVEIRA MACIEL</td>\n",
       "      <td>-2</td>\n",
       "      <td>NaN</td>\n",
       "      <td>Não se aplica</td>\n",
       "      <td>CADUN NAO BOLSA</td>\n",
       "      <td>1ª</td>\n",
       "      <td>Não há</td>\n",
       "      <td>600,00</td>\n",
       "    </tr>\n",
       "    <tr>\n",
       "      <th>276</th>\n",
       "      <td>202004</td>\n",
       "      <td>AC</td>\n",
       "      <td>1200013.0</td>\n",
       "      <td>ACRELANDIA</td>\n",
       "      <td>16167611395</td>\n",
       "      <td>***.833.642-**</td>\n",
       "      <td>ABIGAIL DAGMAR MACHADO</td>\n",
       "      <td>16167611395</td>\n",
       "      <td>***.833.642-**</td>\n",
       "      <td>ABIGAIL DAGMAR MACHADO</td>\n",
       "      <td>BOLSA FAMILIA</td>\n",
       "      <td>1ª</td>\n",
       "      <td>Não há</td>\n",
       "      <td>1200,00</td>\n",
       "    </tr>\n",
       "    <tr>\n",
       "      <th>277</th>\n",
       "      <td>202004</td>\n",
       "      <td>AC</td>\n",
       "      <td>1200013.0</td>\n",
       "      <td>ACRELANDIA</td>\n",
       "      <td>14444818014</td>\n",
       "      <td>***.465.702-**</td>\n",
       "      <td>ABINADABE GONCALVES DA SILVA</td>\n",
       "      <td>-2</td>\n",
       "      <td>NaN</td>\n",
       "      <td>Não se aplica</td>\n",
       "      <td>CADUN NAO BOLSA</td>\n",
       "      <td>1ª</td>\n",
       "      <td>Não há</td>\n",
       "      <td>600,00</td>\n",
       "    </tr>\n",
       "  </tbody>\n",
       "</table>\n",
       "</div>"
      ],
      "text/plain": [
       "     MÊS DISPONIBILIZAÇÃO  UF  CÓDIGO MUNICÍPIO IBGE NOME MUNICÍPIO  \\\n",
       "273                202004  AC              1200013.0     ACRELANDIA   \n",
       "274                202004  AC              1200013.0     ACRELANDIA   \n",
       "275                202004  AC              1200013.0     ACRELANDIA   \n",
       "276                202004  AC              1200013.0     ACRELANDIA   \n",
       "277                202004  AC              1200013.0     ACRELANDIA   \n",
       "\n",
       "     NIS BENEFICIÁRIO CPF BENEFICIÁRIO             NOME BENEFICIÁRIO  \\\n",
       "273                 0   ***.892.435-**                 ABEDI MANANGA   \n",
       "274       23688307034   ***.105.752-**       ABEL DA COSTA PAULICHEN   \n",
       "275       16162958613   ***.690.492-**    ABIDIAS DE OLIVEIRA MACIEL   \n",
       "276       16167611395   ***.833.642-**        ABIGAIL DAGMAR MACHADO   \n",
       "277       14444818014   ***.465.702-**  ABINADABE GONCALVES DA SILVA   \n",
       "\n",
       "     NIS RESPONSÁVEL CPF RESPONSÁVEL        NOME RESPONSÁVEL    ENQUADRAMENTO  \\\n",
       "273               -2             NaN           Não se aplica      EXTRA CADUN   \n",
       "274               -2             NaN           Não se aplica  CADUN NAO BOLSA   \n",
       "275               -2             NaN           Não se aplica  CADUN NAO BOLSA   \n",
       "276      16167611395  ***.833.642-**  ABIGAIL DAGMAR MACHADO    BOLSA FAMILIA   \n",
       "277               -2             NaN           Não se aplica  CADUN NAO BOLSA   \n",
       "\n",
       "    PARCELA OBSERVAÇÃO VALOR BENEFÍCIO  \n",
       "273      1ª     Não há          600,00  \n",
       "274      1ª     Não há          600,00  \n",
       "275      1ª     Não há          600,00  \n",
       "276      1ª     Não há         1200,00  \n",
       "277      1ª     Não há          600,00  "
      ]
     },
     "execution_count": 5,
     "metadata": {},
     "output_type": "execute_result"
    }
   ],
   "source": [
    "df.head(5)"
   ]
  },
  {
   "cell_type": "markdown",
   "metadata": {},
   "source": [
    "Já foi possível eliminar todas as linhas preenchidas com NaN partindo somente da coluna UF sem perder muitos dados. Ainda há NaN na coluna CPF RESPONSÁVEl, mas ela não me interessa e, se eu eliminá-la, posso perder muitos mais dados."
   ]
  },
  {
   "cell_type": "code",
   "execution_count": 6,
   "metadata": {
    "scrolled": false
   },
   "outputs": [
    {
     "data": {
      "text/plain": [
       "Index(['MÊS DISPONIBILIZAÇÃO', 'UF', 'CÓDIGO MUNICÍPIO IBGE', 'NOME MUNICÍPIO',\n",
       "       'NIS BENEFICIÁRIO', 'CPF BENEFICIÁRIO', 'NOME BENEFICIÁRIO',\n",
       "       'NIS RESPONSÁVEL', 'CPF RESPONSÁVEL', 'NOME RESPONSÁVEL',\n",
       "       'ENQUADRAMENTO', 'PARCELA', 'OBSERVAÇÃO', 'VALOR BENEFÍCIO'],\n",
       "      dtype='object')"
      ]
     },
     "execution_count": 6,
     "metadata": {},
     "output_type": "execute_result"
    }
   ],
   "source": [
    "df.columns"
   ]
  },
  {
   "cell_type": "markdown",
   "metadata": {},
   "source": [
    "Aqui eu vejo todas as colunas do meu dataframe."
   ]
  },
  {
   "cell_type": "code",
   "execution_count": 7,
   "metadata": {},
   "outputs": [],
   "source": [
    "dfNomes = df[['NOME BENEFICIÁRIO', 'NOME MUNICÍPIO', 'VALOR BENEFÍCIO']]"
   ]
  },
  {
   "cell_type": "markdown",
   "metadata": {},
   "source": [
    "Criei um novo dataframe baseado no antigo, usando somente as colunas que me interessam."
   ]
  },
  {
   "cell_type": "code",
   "execution_count": 8,
   "metadata": {
    "scrolled": false
   },
   "outputs": [
    {
     "data": {
      "text/html": [
       "<div>\n",
       "<style scoped>\n",
       "    .dataframe tbody tr th:only-of-type {\n",
       "        vertical-align: middle;\n",
       "    }\n",
       "\n",
       "    .dataframe tbody tr th {\n",
       "        vertical-align: top;\n",
       "    }\n",
       "\n",
       "    .dataframe thead th {\n",
       "        text-align: right;\n",
       "    }\n",
       "</style>\n",
       "<table border=\"1\" class=\"dataframe\">\n",
       "  <thead>\n",
       "    <tr style=\"text-align: right;\">\n",
       "      <th></th>\n",
       "      <th>NOME BENEFICIÁRIO</th>\n",
       "      <th>NOME MUNICÍPIO</th>\n",
       "      <th>VALOR BENEFÍCIO</th>\n",
       "    </tr>\n",
       "  </thead>\n",
       "  <tbody>\n",
       "    <tr>\n",
       "      <th>305698</th>\n",
       "      <td>ZENILDE ALVES DOS SANTOS</td>\n",
       "      <td>XAMBIOA</td>\n",
       "      <td>600,00</td>\n",
       "    </tr>\n",
       "    <tr>\n",
       "      <th>305699</th>\n",
       "      <td>ZEZILDO BENICIO DA SILVA</td>\n",
       "      <td>XAMBIOA</td>\n",
       "      <td>600,00</td>\n",
       "    </tr>\n",
       "    <tr>\n",
       "      <th>305700</th>\n",
       "      <td>ZILMA ALVES DE BARROS</td>\n",
       "      <td>XAMBIOA</td>\n",
       "      <td>1200,00</td>\n",
       "    </tr>\n",
       "    <tr>\n",
       "      <th>305701</th>\n",
       "      <td>ZULEIDE DA SILVA E SILVA</td>\n",
       "      <td>XAMBIOA</td>\n",
       "      <td>600,00</td>\n",
       "    </tr>\n",
       "    <tr>\n",
       "      <th>305702</th>\n",
       "      <td>ZULMIRA BENTO DE OLIVEIRA SILVA</td>\n",
       "      <td>XAMBIOA</td>\n",
       "      <td>600,00</td>\n",
       "    </tr>\n",
       "  </tbody>\n",
       "</table>\n",
       "</div>"
      ],
      "text/plain": [
       "                      NOME BENEFICIÁRIO NOME MUNICÍPIO VALOR BENEFÍCIO\n",
       "305698         ZENILDE ALVES DOS SANTOS        XAMBIOA          600,00\n",
       "305699         ZEZILDO BENICIO DA SILVA        XAMBIOA          600,00\n",
       "305700            ZILMA ALVES DE BARROS        XAMBIOA         1200,00\n",
       "305701         ZULEIDE DA SILVA E SILVA        XAMBIOA          600,00\n",
       "305702  ZULMIRA BENTO DE OLIVEIRA SILVA        XAMBIOA          600,00"
      ]
     },
     "execution_count": 8,
     "metadata": {},
     "output_type": "execute_result"
    }
   ],
   "source": [
    "dfNomes.tail(5)"
   ]
  },
  {
   "cell_type": "markdown",
   "metadata": {},
   "source": [
    "Pedi para ver o final do dataframe somente pela curiosidade."
   ]
  },
  {
   "cell_type": "code",
   "execution_count": 9,
   "metadata": {
    "scrolled": true
   },
   "outputs": [
    {
     "data": {
      "text/plain": [
       "NOME BENEFICIÁRIO    object\n",
       "NOME MUNICÍPIO       object\n",
       "VALOR BENEFÍCIO      object\n",
       "dtype: object"
      ]
     },
     "execution_count": 9,
     "metadata": {},
     "output_type": "execute_result"
    }
   ],
   "source": [
    "dfNomes.dtypes"
   ]
  },
  {
   "cell_type": "markdown",
   "metadata": {},
   "source": [
    "Aqui eu vi o tipo de dado em cada coluna. Todos são objetos (texto). Eu poderia mudar a coluna com o valor do benefício para tipo numérico, mas não me interessa. "
   ]
  },
  {
   "cell_type": "code",
   "execution_count": null,
   "metadata": {},
   "outputs": [],
   "source": [
    "dfNomes = dfNomes[dfNomes['NOME MUNICÍPIO']=='RIBEIRAO PRETO']"
   ]
  },
  {
   "cell_type": "markdown",
   "metadata": {},
   "source": [
    "Aqui foi meu filtro. Pedi para salvar somente as linhas que contém o nome da minha cidade na coluna NOME MUNICÍPIO. A não utilização de acento foi uma dedução baseada nos nomes dos municipios no começo e no final do dataframe, assim como a caixa alta."
   ]
  },
  {
   "cell_type": "code",
   "execution_count": 11,
   "metadata": {},
   "outputs": [
    {
     "data": {
      "text/html": [
       "<div>\n",
       "<style scoped>\n",
       "    .dataframe tbody tr th:only-of-type {\n",
       "        vertical-align: middle;\n",
       "    }\n",
       "\n",
       "    .dataframe tbody tr th {\n",
       "        vertical-align: top;\n",
       "    }\n",
       "\n",
       "    .dataframe thead th {\n",
       "        text-align: right;\n",
       "    }\n",
       "</style>\n",
       "<table border=\"1\" class=\"dataframe\">\n",
       "  <thead>\n",
       "    <tr style=\"text-align: right;\">\n",
       "      <th></th>\n",
       "      <th>NOME BENEFICIÁRIO</th>\n",
       "      <th>NOME MUNICÍPIO</th>\n",
       "      <th>VALOR BENEFÍCIO</th>\n",
       "    </tr>\n",
       "  </thead>\n",
       "  <tbody>\n",
       "    <tr>\n",
       "      <th>90036</th>\n",
       "      <td>AARON FERREIRA NOBRE</td>\n",
       "      <td>RIBEIRAO PRETO</td>\n",
       "      <td>600,00</td>\n",
       "    </tr>\n",
       "    <tr>\n",
       "      <th>90037</th>\n",
       "      <td>ABADIA DE LOURDES CAITANO GOMES</td>\n",
       "      <td>RIBEIRAO PRETO</td>\n",
       "      <td>600,00</td>\n",
       "    </tr>\n",
       "    <tr>\n",
       "      <th>90038</th>\n",
       "      <td>ABADIA DOS REIS MARTINS</td>\n",
       "      <td>RIBEIRAO PRETO</td>\n",
       "      <td>600,00</td>\n",
       "    </tr>\n",
       "    <tr>\n",
       "      <th>90039</th>\n",
       "      <td>ABADIA SOUZA SANT ANA DO CARMO</td>\n",
       "      <td>RIBEIRAO PRETO</td>\n",
       "      <td>600,00</td>\n",
       "    </tr>\n",
       "    <tr>\n",
       "      <th>90040</th>\n",
       "      <td>ABDAO CORREIA DE MOURA</td>\n",
       "      <td>RIBEIRAO PRETO</td>\n",
       "      <td>600,00</td>\n",
       "    </tr>\n",
       "  </tbody>\n",
       "</table>\n",
       "</div>"
      ],
      "text/plain": [
       "                     NOME BENEFICIÁRIO  NOME MUNICÍPIO VALOR BENEFÍCIO\n",
       "90036             AARON FERREIRA NOBRE  RIBEIRAO PRETO          600,00\n",
       "90037  ABADIA DE LOURDES CAITANO GOMES  RIBEIRAO PRETO          600,00\n",
       "90038          ABADIA DOS REIS MARTINS  RIBEIRAO PRETO          600,00\n",
       "90039   ABADIA SOUZA SANT ANA DO CARMO  RIBEIRAO PRETO          600,00\n",
       "90040           ABDAO CORREIA DE MOURA  RIBEIRAO PRETO          600,00"
      ]
     },
     "execution_count": 11,
     "metadata": {},
     "output_type": "execute_result"
    }
   ],
   "source": [
    "dfNomes.head(npartitions=-1)"
   ]
  },
  {
   "cell_type": "markdown",
   "metadata": {},
   "source": [
    "Pedi para ver os cinco primeiros registros do dataframe, utilizando argumento npartition=-1 para procurar em todas as partições. O dask.dataframe diminui o uso da memória dividindo o arquivo em diversos dataframes do pandas. Se eu soubesse em qual partição eu queria procurar, eu utilizava o número correspondente. Como não sei, pedi para olhar em todas usando -1."
   ]
  },
  {
   "cell_type": "code",
   "execution_count": 12,
   "metadata": {},
   "outputs": [],
   "source": [
    "dfNomesRp = dfNomes.compute()"
   ]
  },
  {
   "cell_type": "markdown",
   "metadata": {},
   "source": [
    "Converti o dask.dataframe para pandas. Isso leva um pouco de tempo, dependendo do tamanho do arquivo, quantidade de operações e potência do seu computador."
   ]
  },
  {
   "cell_type": "code",
   "execution_count": 13,
   "metadata": {},
   "outputs": [],
   "source": [
    "dfNomesRp.to_csv('auxilioribeirao.csv', encoding ='utf8')"
   ]
  },
  {
   "cell_type": "markdown",
   "metadata": {},
   "source": [
    "Salvei o arquivo e alterei a codificação para utf8."
   ]
  }
 ],
 "metadata": {
  "kernelspec": {
   "display_name": "Python 3",
   "language": "python",
   "name": "python3"
  },
  "language_info": {
   "codemirror_mode": {
    "name": "ipython",
    "version": 3
   },
   "file_extension": ".py",
   "mimetype": "text/x-python",
   "name": "python",
   "nbconvert_exporter": "python",
   "pygments_lexer": "ipython3",
   "version": "3.8.3"
  }
 },
 "nbformat": 4,
 "nbformat_minor": 4
}
