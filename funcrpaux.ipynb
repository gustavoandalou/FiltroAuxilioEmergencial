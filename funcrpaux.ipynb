{
 "cells": [
  {
   "cell_type": "code",
   "execution_count": 1,
   "metadata": {},
   "outputs": [],
   "source": [
    "import pandas as pd"
   ]
  },
  {
   "cell_type": "markdown",
   "metadata": {},
   "source": [
    "Como os arquivos já bem menores, utilizei diretamente o pandas."
   ]
  },
  {
   "cell_type": "code",
   "execution_count": 2,
   "metadata": {},
   "outputs": [],
   "source": [
    "dfFunc = pd.read_csv('funcionariosribeirao.csv')"
   ]
  },
  {
   "cell_type": "markdown",
   "metadata": {},
   "source": [
    "Importei o arquivo com as configurações padrões."
   ]
  },
  {
   "cell_type": "code",
   "execution_count": 3,
   "metadata": {
    "scrolled": true
   },
   "outputs": [
    {
     "data": {
      "text/html": [
       "<div>\n",
       "<style scoped>\n",
       "    .dataframe tbody tr th:only-of-type {\n",
       "        vertical-align: middle;\n",
       "    }\n",
       "\n",
       "    .dataframe tbody tr th {\n",
       "        vertical-align: top;\n",
       "    }\n",
       "\n",
       "    .dataframe thead th {\n",
       "        text-align: right;\n",
       "    }\n",
       "</style>\n",
       "<table border=\"1\" class=\"dataframe\">\n",
       "  <thead>\n",
       "    <tr style=\"text-align: right;\">\n",
       "      <th></th>\n",
       "      <th>Unnamed: 0</th>\n",
       "      <th>Funcionario</th>\n",
       "      <th>Salario</th>\n",
       "    </tr>\n",
       "  </thead>\n",
       "  <tbody>\n",
       "    <tr>\n",
       "      <th>0</th>\n",
       "      <td>5</td>\n",
       "      <td>ACACIO JOSE DAMASCENO</td>\n",
       "      <td>3330.28</td>\n",
       "    </tr>\n",
       "    <tr>\n",
       "      <th>1</th>\n",
       "      <td>6</td>\n",
       "      <td>ADA CRISTIANI FERREIRA</td>\n",
       "      <td>5931.76</td>\n",
       "    </tr>\n",
       "    <tr>\n",
       "      <th>2</th>\n",
       "      <td>7</td>\n",
       "      <td>ADAILTON GERALDO SELEGATO VICENTE</td>\n",
       "      <td>4022.28</td>\n",
       "    </tr>\n",
       "    <tr>\n",
       "      <th>3</th>\n",
       "      <td>8</td>\n",
       "      <td>ADALBERTO GONZAGA DA SILVA</td>\n",
       "      <td>2535.07</td>\n",
       "    </tr>\n",
       "    <tr>\n",
       "      <th>4</th>\n",
       "      <td>9</td>\n",
       "      <td>ADALGISA APARECIDA ZANAROTTI PEREIRA</td>\n",
       "      <td>19870.97</td>\n",
       "    </tr>\n",
       "  </tbody>\n",
       "</table>\n",
       "</div>"
      ],
      "text/plain": [
       "   Unnamed: 0                               Funcionario   Salario\n",
       "0           5  ACACIO JOSE DAMASCENO                      3330.28\n",
       "1           6  ADA CRISTIANI FERREIRA                     5931.76\n",
       "2           7  ADAILTON GERALDO SELEGATO VICENTE          4022.28\n",
       "3           8  ADALBERTO GONZAGA DA SILVA                 2535.07\n",
       "4           9  ADALGISA APARECIDA ZANAROTTI PEREIRA      19870.97"
      ]
     },
     "execution_count": 3,
     "metadata": {},
     "output_type": "execute_result"
    }
   ],
   "source": [
    "dfFunc.head(5)"
   ]
  },
  {
   "cell_type": "markdown",
   "metadata": {},
   "source": [
    "Pedi pra ver o começo do arquivo e notei que foi salvo o index do dataframe anterior como uma coluna."
   ]
  },
  {
   "cell_type": "code",
   "execution_count": 3,
   "metadata": {},
   "outputs": [],
   "source": [
    "dfFunc = dfFunc.drop(['Unnamed: 0', 'Salario'], axis=1)"
   ]
  },
  {
   "cell_type": "markdown",
   "metadata": {},
   "source": [
    "Então eu exclui a coluna que citei e mais a salário, já que não vou usa-la também."
   ]
  },
  {
   "cell_type": "code",
   "execution_count": 4,
   "metadata": {},
   "outputs": [],
   "source": [
    "dfAux = pd.read_csv('auxilioribeirao.csv')"
   ]
  },
  {
   "cell_type": "markdown",
   "metadata": {},
   "source": [
    "Importei o outro arquivo."
   ]
  },
  {
   "cell_type": "code",
   "execution_count": 5,
   "metadata": {},
   "outputs": [
    {
     "data": {
      "text/html": [
       "<div>\n",
       "<style scoped>\n",
       "    .dataframe tbody tr th:only-of-type {\n",
       "        vertical-align: middle;\n",
       "    }\n",
       "\n",
       "    .dataframe tbody tr th {\n",
       "        vertical-align: top;\n",
       "    }\n",
       "\n",
       "    .dataframe thead th {\n",
       "        text-align: right;\n",
       "    }\n",
       "</style>\n",
       "<table border=\"1\" class=\"dataframe\">\n",
       "  <thead>\n",
       "    <tr style=\"text-align: right;\">\n",
       "      <th></th>\n",
       "      <th>Unnamed: 0</th>\n",
       "      <th>NOME BENEFICIÁRIO</th>\n",
       "      <th>NOME MUNICÍPIO</th>\n",
       "      <th>VALOR BENEFÍCIO</th>\n",
       "    </tr>\n",
       "  </thead>\n",
       "  <tbody>\n",
       "    <tr>\n",
       "      <th>0</th>\n",
       "      <td>90036</td>\n",
       "      <td>AARON FERREIRA NOBRE</td>\n",
       "      <td>RIBEIRAO PRETO</td>\n",
       "      <td>600,00</td>\n",
       "    </tr>\n",
       "    <tr>\n",
       "      <th>1</th>\n",
       "      <td>90037</td>\n",
       "      <td>ABADIA DE LOURDES CAITANO GOMES</td>\n",
       "      <td>RIBEIRAO PRETO</td>\n",
       "      <td>600,00</td>\n",
       "    </tr>\n",
       "    <tr>\n",
       "      <th>2</th>\n",
       "      <td>90038</td>\n",
       "      <td>ABADIA DOS REIS MARTINS</td>\n",
       "      <td>RIBEIRAO PRETO</td>\n",
       "      <td>600,00</td>\n",
       "    </tr>\n",
       "    <tr>\n",
       "      <th>3</th>\n",
       "      <td>90039</td>\n",
       "      <td>ABADIA SOUZA SANT ANA DO CARMO</td>\n",
       "      <td>RIBEIRAO PRETO</td>\n",
       "      <td>600,00</td>\n",
       "    </tr>\n",
       "    <tr>\n",
       "      <th>4</th>\n",
       "      <td>90040</td>\n",
       "      <td>ABDAO CORREIA DE MOURA</td>\n",
       "      <td>RIBEIRAO PRETO</td>\n",
       "      <td>600,00</td>\n",
       "    </tr>\n",
       "  </tbody>\n",
       "</table>\n",
       "</div>"
      ],
      "text/plain": [
       "   Unnamed: 0                NOME BENEFICIÁRIO  NOME MUNICÍPIO VALOR BENEFÍCIO\n",
       "0       90036             AARON FERREIRA NOBRE  RIBEIRAO PRETO          600,00\n",
       "1       90037  ABADIA DE LOURDES CAITANO GOMES  RIBEIRAO PRETO          600,00\n",
       "2       90038          ABADIA DOS REIS MARTINS  RIBEIRAO PRETO          600,00\n",
       "3       90039   ABADIA SOUZA SANT ANA DO CARMO  RIBEIRAO PRETO          600,00\n",
       "4       90040           ABDAO CORREIA DE MOURA  RIBEIRAO PRETO          600,00"
      ]
     },
     "execution_count": 5,
     "metadata": {},
     "output_type": "execute_result"
    }
   ],
   "source": [
    "dfAux.head(5)"
   ]
  },
  {
   "cell_type": "markdown",
   "metadata": {},
   "source": [
    "Mesmo problema do outro."
   ]
  },
  {
   "cell_type": "code",
   "execution_count": 5,
   "metadata": {},
   "outputs": [],
   "source": [
    "dfAux = dfAux.drop(['Unnamed: 0', 'NOME MUNICÍPIO', 'VALOR BENEFÍCIO'], axis=1)"
   ]
  },
  {
   "cell_type": "markdown",
   "metadata": {},
   "source": [
    "Excluí também o index antigo e outras colunas que não vou usar."
   ]
  },
  {
   "cell_type": "code",
   "execution_count": 6,
   "metadata": {},
   "outputs": [],
   "source": [
    "dfAux = dfAux.rename(columns={'NOME BENEFICIÁRIO':'Funcionario'})"
   ]
  },
  {
   "cell_type": "markdown",
   "metadata": {},
   "source": [
    "Renomei a coluna, pois para fazer a comparação, as duas colunas comparadas devem ter o mesmo nome."
   ]
  },
  {
   "cell_type": "code",
   "execution_count": 7,
   "metadata": {},
   "outputs": [
    {
     "data": {
      "text/html": [
       "<div>\n",
       "<style scoped>\n",
       "    .dataframe tbody tr th:only-of-type {\n",
       "        vertical-align: middle;\n",
       "    }\n",
       "\n",
       "    .dataframe tbody tr th {\n",
       "        vertical-align: top;\n",
       "    }\n",
       "\n",
       "    .dataframe thead th {\n",
       "        text-align: right;\n",
       "    }\n",
       "</style>\n",
       "<table border=\"1\" class=\"dataframe\">\n",
       "  <thead>\n",
       "    <tr style=\"text-align: right;\">\n",
       "      <th></th>\n",
       "      <th>Funcionario</th>\n",
       "    </tr>\n",
       "  </thead>\n",
       "  <tbody>\n",
       "    <tr>\n",
       "      <th>7673</th>\n",
       "      <td>SIMONE DEMARTINI CARVALHO</td>\n",
       "    </tr>\n",
       "    <tr>\n",
       "      <th>5899</th>\n",
       "      <td>MATHEUS GONCALVES DOS REIS</td>\n",
       "    </tr>\n",
       "    <tr>\n",
       "      <th>7719</th>\n",
       "      <td>SOLANGE OSEAS ANTONIO</td>\n",
       "    </tr>\n",
       "    <tr>\n",
       "      <th>7333</th>\n",
       "      <td>SANDRA APARECIDA DE PAIVA BINATO</td>\n",
       "    </tr>\n",
       "    <tr>\n",
       "      <th>6202</th>\n",
       "      <td>NEIVA DA SILVA DIAS DE PAULA</td>\n",
       "    </tr>\n",
       "  </tbody>\n",
       "</table>\n",
       "</div>"
      ],
      "text/plain": [
       "                                   Funcionario\n",
       "7673  SIMONE DEMARTINI CARVALHO               \n",
       "5899  MATHEUS GONCALVES DOS REIS              \n",
       "7719  SOLANGE OSEAS ANTONIO                   \n",
       "7333  SANDRA APARECIDA DE PAIVA BINATO        \n",
       "6202  NEIVA DA SILVA DIAS DE PAULA            "
      ]
     },
     "execution_count": 7,
     "metadata": {},
     "output_type": "execute_result"
    }
   ],
   "source": [
    "dfFunc.sample(5)"
   ]
  },
  {
   "cell_type": "code",
   "execution_count": 8,
   "metadata": {},
   "outputs": [
    {
     "data": {
      "text/html": [
       "<div>\n",
       "<style scoped>\n",
       "    .dataframe tbody tr th:only-of-type {\n",
       "        vertical-align: middle;\n",
       "    }\n",
       "\n",
       "    .dataframe tbody tr th {\n",
       "        vertical-align: top;\n",
       "    }\n",
       "\n",
       "    .dataframe thead th {\n",
       "        text-align: right;\n",
       "    }\n",
       "</style>\n",
       "<table border=\"1\" class=\"dataframe\">\n",
       "  <thead>\n",
       "    <tr style=\"text-align: right;\">\n",
       "      <th></th>\n",
       "      <th>Funcionario</th>\n",
       "    </tr>\n",
       "  </thead>\n",
       "  <tbody>\n",
       "    <tr>\n",
       "      <th>59128</th>\n",
       "      <td>MARCELO FELONI GOMES</td>\n",
       "    </tr>\n",
       "    <tr>\n",
       "      <th>93779</th>\n",
       "      <td>WELLITON DA CONCEICAO DE ARAUJO</td>\n",
       "    </tr>\n",
       "    <tr>\n",
       "      <th>81183</th>\n",
       "      <td>ROSANGELA SOARES DE OLIVEIRA</td>\n",
       "    </tr>\n",
       "    <tr>\n",
       "      <th>2015</th>\n",
       "      <td>ALAN PATRICK DA VEIGA</td>\n",
       "    </tr>\n",
       "    <tr>\n",
       "      <th>36608</th>\n",
       "      <td>GUSTAVO LISBOA GRITTI</td>\n",
       "    </tr>\n",
       "  </tbody>\n",
       "</table>\n",
       "</div>"
      ],
      "text/plain": [
       "                           Funcionario\n",
       "59128             MARCELO FELONI GOMES\n",
       "93779  WELLITON DA CONCEICAO DE ARAUJO\n",
       "81183     ROSANGELA SOARES DE OLIVEIRA\n",
       "2015             ALAN PATRICK DA VEIGA\n",
       "36608            GUSTAVO LISBOA GRITTI"
      ]
     },
     "execution_count": 8,
     "metadata": {},
     "output_type": "execute_result"
    }
   ],
   "source": [
    "dfAux.sample(5)"
   ]
  },
  {
   "cell_type": "code",
   "execution_count": 9,
   "metadata": {},
   "outputs": [
    {
     "data": {
      "text/plain": [
       "Funcionario    object\n",
       "dtype: object"
      ]
     },
     "execution_count": 9,
     "metadata": {},
     "output_type": "execute_result"
    }
   ],
   "source": [
    "dfAux.dtypes"
   ]
  },
  {
   "cell_type": "code",
   "execution_count": 10,
   "metadata": {
    "scrolled": true
   },
   "outputs": [
    {
     "data": {
      "text/plain": [
       "Funcionario    object\n",
       "dtype: object"
      ]
     },
     "execution_count": 10,
     "metadata": {},
     "output_type": "execute_result"
    }
   ],
   "source": [
    "dfFunc.dtypes"
   ]
  },
  {
   "cell_type": "markdown",
   "metadata": {},
   "source": [
    "Pedi para ver exemplos de cada dataframe e os tipos de dados para ver se estavam de acordo."
   ]
  },
  {
   "cell_type": "code",
   "execution_count": 11,
   "metadata": {},
   "outputs": [
    {
     "data": {
      "text/plain": [
       "array(['ACACIO JOSE DAMASCENO                   ',\n",
       "       'ADA CRISTIANI FERREIRA                  ',\n",
       "       'ADAILTON GERALDO SELEGATO VICENTE       ', ...,\n",
       "       'ZULEIDE MARIA DA SILVA CARVALHO         ', nan,\n",
       "       '08/07/2020 14:39:54'], dtype=object)"
      ]
     },
     "execution_count": 11,
     "metadata": {},
     "output_type": "execute_result"
    }
   ],
   "source": [
    "dfFunc['Funcionario'].unique()"
   ]
  },
  {
   "cell_type": "code",
   "execution_count": 12,
   "metadata": {
    "scrolled": true
   },
   "outputs": [
    {
     "data": {
      "text/plain": [
       "array(['AARON FERREIRA NOBRE', 'ABADIA DE LOURDES CAITANO GOMES',\n",
       "       'ABADIA DOS REIS MARTINS', ..., 'ZULMIRA APARECIDA FRANCISCO',\n",
       "       'ZULMIRA INICIO DA CARVALHO', 'ZULMIRA OLIVEIRA MARTINS'],\n",
       "      dtype=object)"
      ]
     },
     "execution_count": 12,
     "metadata": {},
     "output_type": "execute_result"
    }
   ],
   "source": [
    "dfAux['Funcionario'].unique()"
   ]
  },
  {
   "cell_type": "markdown",
   "metadata": {},
   "source": [
    "Fui procurar por espaços extras nas linhas das colunas Funcionario e acabei notando que existe um NaN e uma data e horário no dataframe dfFunc, que poderia me atrapalhar."
   ]
  },
  {
   "cell_type": "code",
   "execution_count": 13,
   "metadata": {
    "scrolled": true
   },
   "outputs": [
    {
     "data": {
      "text/html": [
       "<div>\n",
       "<style scoped>\n",
       "    .dataframe tbody tr th:only-of-type {\n",
       "        vertical-align: middle;\n",
       "    }\n",
       "\n",
       "    .dataframe tbody tr th {\n",
       "        vertical-align: top;\n",
       "    }\n",
       "\n",
       "    .dataframe thead th {\n",
       "        text-align: right;\n",
       "    }\n",
       "</style>\n",
       "<table border=\"1\" class=\"dataframe\">\n",
       "  <thead>\n",
       "    <tr style=\"text-align: right;\">\n",
       "      <th></th>\n",
       "      <th>Funcionario</th>\n",
       "    </tr>\n",
       "  </thead>\n",
       "  <tbody>\n",
       "    <tr>\n",
       "      <th>8461</th>\n",
       "      <td>ZILDA DE FATIMA GIROTO PONTES</td>\n",
       "    </tr>\n",
       "    <tr>\n",
       "      <th>8462</th>\n",
       "      <td>ZILDA DE OLIVEIRA NERY</td>\n",
       "    </tr>\n",
       "    <tr>\n",
       "      <th>8463</th>\n",
       "      <td>ZILDA TEIXEIRA MARINHO</td>\n",
       "    </tr>\n",
       "    <tr>\n",
       "      <th>8464</th>\n",
       "      <td>ZILDENE MARIA DA SILVA OLIVEIRA</td>\n",
       "    </tr>\n",
       "    <tr>\n",
       "      <th>8465</th>\n",
       "      <td>ZILDETE MARIA DA SILVA MOURA</td>\n",
       "    </tr>\n",
       "    <tr>\n",
       "      <th>8466</th>\n",
       "      <td>ZULEIDE GRANCE CAVALHEIRO</td>\n",
       "    </tr>\n",
       "    <tr>\n",
       "      <th>8467</th>\n",
       "      <td>ZULEIDE MARIA DA SILVA CARVALHO</td>\n",
       "    </tr>\n",
       "    <tr>\n",
       "      <th>8468</th>\n",
       "      <td>NaN</td>\n",
       "    </tr>\n",
       "    <tr>\n",
       "      <th>8469</th>\n",
       "      <td>NaN</td>\n",
       "    </tr>\n",
       "    <tr>\n",
       "      <th>8470</th>\n",
       "      <td>08/07/2020 14:39:54</td>\n",
       "    </tr>\n",
       "  </tbody>\n",
       "</table>\n",
       "</div>"
      ],
      "text/plain": [
       "                                   Funcionario\n",
       "8461  ZILDA DE FATIMA GIROTO PONTES           \n",
       "8462  ZILDA DE OLIVEIRA NERY                  \n",
       "8463  ZILDA TEIXEIRA MARINHO                  \n",
       "8464  ZILDENE MARIA DA SILVA OLIVEIRA         \n",
       "8465  ZILDETE MARIA DA SILVA MOURA            \n",
       "8466  ZULEIDE GRANCE CAVALHEIRO               \n",
       "8467  ZULEIDE MARIA DA SILVA CARVALHO         \n",
       "8468                                       NaN\n",
       "8469                                       NaN\n",
       "8470                       08/07/2020 14:39:54"
      ]
     },
     "execution_count": 13,
     "metadata": {},
     "output_type": "execute_result"
    }
   ],
   "source": [
    "dfFunc.tail(10)"
   ]
  },
  {
   "cell_type": "markdown",
   "metadata": {},
   "source": [
    "Confirmado aqui."
   ]
  },
  {
   "cell_type": "code",
   "execution_count": 14,
   "metadata": {},
   "outputs": [],
   "source": [
    "dfFunc = dfFunc.drop([8468, 8469, 8470])"
   ]
  },
  {
   "cell_type": "markdown",
   "metadata": {},
   "source": [
    "Excluí as linhas."
   ]
  },
  {
   "cell_type": "code",
   "execution_count": 15,
   "metadata": {
    "scrolled": true
   },
   "outputs": [
    {
     "data": {
      "text/html": [
       "<div>\n",
       "<style scoped>\n",
       "    .dataframe tbody tr th:only-of-type {\n",
       "        vertical-align: middle;\n",
       "    }\n",
       "\n",
       "    .dataframe tbody tr th {\n",
       "        vertical-align: top;\n",
       "    }\n",
       "\n",
       "    .dataframe thead th {\n",
       "        text-align: right;\n",
       "    }\n",
       "</style>\n",
       "<table border=\"1\" class=\"dataframe\">\n",
       "  <thead>\n",
       "    <tr style=\"text-align: right;\">\n",
       "      <th></th>\n",
       "      <th>Funcionario</th>\n",
       "    </tr>\n",
       "  </thead>\n",
       "  <tbody>\n",
       "    <tr>\n",
       "      <th>8458</th>\n",
       "      <td>ZILDA APARECIDA MAIA</td>\n",
       "    </tr>\n",
       "    <tr>\n",
       "      <th>8459</th>\n",
       "      <td>ZILDA APARECIDA SIMIONATO BIDOIA</td>\n",
       "    </tr>\n",
       "    <tr>\n",
       "      <th>8460</th>\n",
       "      <td>ZILDA CONCEICAO PEREIRA</td>\n",
       "    </tr>\n",
       "    <tr>\n",
       "      <th>8461</th>\n",
       "      <td>ZILDA DE FATIMA GIROTO PONTES</td>\n",
       "    </tr>\n",
       "    <tr>\n",
       "      <th>8462</th>\n",
       "      <td>ZILDA DE OLIVEIRA NERY</td>\n",
       "    </tr>\n",
       "    <tr>\n",
       "      <th>8463</th>\n",
       "      <td>ZILDA TEIXEIRA MARINHO</td>\n",
       "    </tr>\n",
       "    <tr>\n",
       "      <th>8464</th>\n",
       "      <td>ZILDENE MARIA DA SILVA OLIVEIRA</td>\n",
       "    </tr>\n",
       "    <tr>\n",
       "      <th>8465</th>\n",
       "      <td>ZILDETE MARIA DA SILVA MOURA</td>\n",
       "    </tr>\n",
       "    <tr>\n",
       "      <th>8466</th>\n",
       "      <td>ZULEIDE GRANCE CAVALHEIRO</td>\n",
       "    </tr>\n",
       "    <tr>\n",
       "      <th>8467</th>\n",
       "      <td>ZULEIDE MARIA DA SILVA CARVALHO</td>\n",
       "    </tr>\n",
       "  </tbody>\n",
       "</table>\n",
       "</div>"
      ],
      "text/plain": [
       "                                   Funcionario\n",
       "8458  ZILDA APARECIDA MAIA                    \n",
       "8459  ZILDA APARECIDA SIMIONATO BIDOIA        \n",
       "8460  ZILDA CONCEICAO PEREIRA                 \n",
       "8461  ZILDA DE FATIMA GIROTO PONTES           \n",
       "8462  ZILDA DE OLIVEIRA NERY                  \n",
       "8463  ZILDA TEIXEIRA MARINHO                  \n",
       "8464  ZILDENE MARIA DA SILVA OLIVEIRA         \n",
       "8465  ZILDETE MARIA DA SILVA MOURA            \n",
       "8466  ZULEIDE GRANCE CAVALHEIRO               \n",
       "8467  ZULEIDE MARIA DA SILVA CARVALHO         "
      ]
     },
     "execution_count": 15,
     "metadata": {},
     "output_type": "execute_result"
    }
   ],
   "source": [
    "dfFunc.tail(10)"
   ]
  },
  {
   "cell_type": "markdown",
   "metadata": {},
   "source": [
    "Agora, sim."
   ]
  },
  {
   "cell_type": "code",
   "execution_count": 18,
   "metadata": {},
   "outputs": [],
   "source": [
    "dfFunc['Funcionario'] = dfFunc['Funcionario'].map(str.strip)"
   ]
  },
  {
   "cell_type": "markdown",
   "metadata": {},
   "source": [
    "E excluí os espaços extras."
   ]
  },
  {
   "cell_type": "code",
   "execution_count": 20,
   "metadata": {},
   "outputs": [
    {
     "data": {
      "text/plain": [
       "array(['ACACIO JOSE DAMASCENO', 'ADA CRISTIANI FERREIRA',\n",
       "       'ADAILTON GERALDO SELEGATO VICENTE', ...,\n",
       "       'ZILDETE MARIA DA SILVA MOURA', 'ZULEIDE GRANCE CAVALHEIRO',\n",
       "       'ZULEIDE MARIA DA SILVA CARVALHO'], dtype=object)"
      ]
     },
     "execution_count": 20,
     "metadata": {},
     "output_type": "execute_result"
    }
   ],
   "source": [
    "dfFunc['Funcionario'].unique()"
   ]
  },
  {
   "cell_type": "markdown",
   "metadata": {},
   "source": [
    "Lindo."
   ]
  },
  {
   "cell_type": "code",
   "execution_count": 21,
   "metadata": {},
   "outputs": [],
   "source": [
    "dfMerged = dfFunc.merge(dfAux, on='Funcionario')"
   ]
  },
  {
   "cell_type": "markdown",
   "metadata": {},
   "source": [
    "Criei um novo dataframe com o resultado da fusão entre os dois dataframes. Da forma que foi usado, ele geraria o dataframe apenas com os nomes que se repetiam na coluna Funcionario."
   ]
  },
  {
   "cell_type": "code",
   "execution_count": 22,
   "metadata": {},
   "outputs": [
    {
     "data": {
      "text/html": [
       "<div>\n",
       "<style scoped>\n",
       "    .dataframe tbody tr th:only-of-type {\n",
       "        vertical-align: middle;\n",
       "    }\n",
       "\n",
       "    .dataframe tbody tr th {\n",
       "        vertical-align: top;\n",
       "    }\n",
       "\n",
       "    .dataframe thead th {\n",
       "        text-align: right;\n",
       "    }\n",
       "</style>\n",
       "<table border=\"1\" class=\"dataframe\">\n",
       "  <thead>\n",
       "    <tr style=\"text-align: right;\">\n",
       "      <th></th>\n",
       "      <th>Funcionario</th>\n",
       "    </tr>\n",
       "  </thead>\n",
       "  <tbody>\n",
       "    <tr>\n",
       "      <th>86</th>\n",
       "      <td>FABIANO DOS SANTOS</td>\n",
       "    </tr>\n",
       "    <tr>\n",
       "      <th>279</th>\n",
       "      <td>VIVIANE DA SILVA</td>\n",
       "    </tr>\n",
       "    <tr>\n",
       "      <th>207</th>\n",
       "      <td>MONICA CAINELI DOS SANTOS</td>\n",
       "    </tr>\n",
       "    <tr>\n",
       "      <th>15</th>\n",
       "      <td>ANA PAULA DIAS</td>\n",
       "    </tr>\n",
       "    <tr>\n",
       "      <th>235</th>\n",
       "      <td>RENATA APARECIDA GONCALVES</td>\n",
       "    </tr>\n",
       "  </tbody>\n",
       "</table>\n",
       "</div>"
      ],
      "text/plain": [
       "                    Funcionario\n",
       "86           FABIANO DOS SANTOS\n",
       "279            VIVIANE DA SILVA\n",
       "207   MONICA CAINELI DOS SANTOS\n",
       "15               ANA PAULA DIAS\n",
       "235  RENATA APARECIDA GONCALVES"
      ]
     },
     "execution_count": 22,
     "metadata": {},
     "output_type": "execute_result"
    }
   ],
   "source": [
    "dfMerged.sample(5)"
   ]
  },
  {
   "cell_type": "markdown",
   "metadata": {},
   "source": [
    "Um exemplo para ver se funcionou."
   ]
  },
  {
   "cell_type": "code",
   "execution_count": null,
   "metadata": {},
   "outputs": [],
   "source": [
    "dfMerged.to_csv('funcrpaux.csv', encoding ='utf8')"
   ]
  },
  {
   "cell_type": "markdown",
   "metadata": {},
   "source": [
    "Salvo."
   ]
  }
 ],
 "metadata": {
  "kernelspec": {
   "display_name": "Python 3",
   "language": "python",
   "name": "python3"
  },
  "language_info": {
   "codemirror_mode": {
    "name": "ipython",
    "version": 3
   },
   "file_extension": ".py",
   "mimetype": "text/x-python",
   "name": "python",
   "nbconvert_exporter": "python",
   "pygments_lexer": "ipython3",
   "version": "3.8.3"
  }
 },
 "nbformat": 4,
 "nbformat_minor": 4
}
